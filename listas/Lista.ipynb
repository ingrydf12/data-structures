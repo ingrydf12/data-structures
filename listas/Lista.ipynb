{
 "cells": [
  {
   "cell_type": "markdown",
   "id": "557f7a28-0902-48b9-94b9-b83bb38a11b3",
   "metadata": {},
   "source": [
    "# Lista\n",
    "\n",
    "Uma lista é, na verdade, um conjunto de estruturas chamadas “nós”. Um nó é uma estrutura que armazena a informação a ser gerenciada por uma lista.\n",
    "\n",
    "**Link ref.:** https://www.inf.ufsc.br/~aldo.vw/estruturas/Capitulo2/EstruturasLista.html"
   ]
  },
  {
   "cell_type": "code",
   "execution_count": null,
   "id": "575faf7c-5026-46cb-a3d9-cdd12b593294",
   "metadata": {},
   "outputs": [],
   "source": [
    "lista1 = ['Ana Clara', 'Carlos', 'Maria', 'Michele', 'Fernando', 1987]\n",
    "\n",
    "print(lista1)\n",
    "# ['Ana Clara', 'Carlos', 'Maria', 'Michele', 'Fernando', 1987]"
   ]
  },
  {
   "cell_type": "code",
   "execution_count": null,
   "id": "9aee3d4d-c574-4cdb-bb8b-0ce08723814c",
   "metadata": {},
   "outputs": [],
   "source": []
  }
 ],
 "metadata": {
  "kernelspec": {
   "display_name": "Python 3 (ipykernel)",
   "language": "python",
   "name": "python3"
  },
  "language_info": {
   "codemirror_mode": {
    "name": "ipython",
    "version": 3
   },
   "file_extension": ".py",
   "mimetype": "text/x-python",
   "name": "python",
   "nbconvert_exporter": "python",
   "pygments_lexer": "ipython3",
   "version": "3.9.13"
  }
 },
 "nbformat": 4,
 "nbformat_minor": 5
}
