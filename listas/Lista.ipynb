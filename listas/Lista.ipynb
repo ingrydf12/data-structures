{
 "cells": [
  {
   "cell_type": "markdown",
   "id": "557f7a28-0902-48b9-94b9-b83bb38a11b3",
   "metadata": {},
   "source": [
    "# Lista\n",
    "\n",
    "Uma lista é, na verdade, um conjunto de estruturas chamadas “nós”. Um nó é uma estrutura que armazena a informação a ser gerenciada por uma lista.\n",
    "\n",
    "**Link ref.:** https://www.inf.ufsc.br/~aldo.vw/estruturas/Capitulo2/EstruturasLista.html"
   ]
  },
  {
   "cell_type": "code",
   "execution_count": null,
   "id": "575faf7c-5026-46cb-a3d9-cdd12b593294",
   "metadata": {},
   "outputs": [],
   "source": [
    "lista1 = ['Ana Clara', 'Carlos', 'Maria', 'Michele', 'Fernando', 1987]\n",
    "\n",
    "print(lista1)\n",
    "# ['Ana Clara', 'Carlos', 'Maria', 'Michele', 'Fernando', 1987]"
   ]
  },
  {
   "cell_type": "markdown",
   "id": "bea981d3",
   "metadata": {},
   "source": [
    "Além disso, listas tem propriedade FIFO (First-In-First-Out). Com isso, quando seria adequado usar listas?\n",
    "\n",
    "- Quando precisar de uma sequência dinâmica de itens onde você possa inserir ou remover elementos livremente (por exemplo, acumular resultados, iterar sobre elementos, criar tabelas como lista de listas etc.)\n",
    "\n",
    "- **Vantagens**: permite heterogeneidade de tipos, fácil de modificar (append, pop, remove, etc.), mantém ordem de inserção e suporta estruturas aninhadas (lista de listas).\n",
    "\n",
    "- **Limitações**: inserções/remoções no início da lista são lentas (O(n), pois deslocam todos os elementos); ocupa mais memória devido a elementos não tipados; não pode ser usada como chave de dicionário pois não é imutável."
   ]
  },
  {
   "cell_type": "code",
   "execution_count": null,
   "id": "9aee3d4d-c574-4cdb-bb8b-0ce08723814c",
   "metadata": {},
   "outputs": [],
   "source": [
    "# @docs: Double Pre Underscore para os nomes dos métodos.\n",
    "class Lista:\n",
    "    def __init__(self):\n",
    "        self.__head = None;\n",
    "        self.__quant = None;"
   ]
  },
  {
   "cell_type": "markdown",
   "id": "cea0d85f",
   "metadata": {},
   "source": [
    "# Criando uma função nativa de append (sem bibliotecas ou própria da linguagem)\n",
    "\n",
    "Criamos uma nova lista manualmente, preenchendo com valores antigo no loop, colocando um novo valor no último indice e retorna a nova lista (já que listas são imutáveis nesse contexto)."
   ]
  },
  {
   "cell_type": "code",
   "execution_count": null,
   "id": "9caf8dc9",
   "metadata": {},
   "outputs": [],
   "source": [
    "def append(array, value):\n",
    "    # Criamos uma nova lista com tamanho +1\n",
    "    novo_array = [None] * (len(array) + 1)\n",
    "    \n",
    "    # Copiamos os elementos existentes\n",
    "    for i in range(len(array)):\n",
    "        novo_array[i] = array[i]\n",
    "    \n",
    "    # Adicionamos o novo valor no final\n",
    "    novo_array[len(array)] = value\n",
    "    \n",
    "    return novo_array\n",
    "\n",
    "\n",
    "lista = [1, 2, 3]\n",
    "print(\"Antes:\", lista)\n",
    "\n",
    "lista = append(lista, 4)\n",
    "print(\"Depois:\", lista)\n"
   ]
  }
 ],
 "metadata": {
  "kernelspec": {
   "display_name": "Python 3 (ipykernel)",
   "language": "python",
   "name": "python3"
  },
  "language_info": {
   "codemirror_mode": {
    "name": "ipython",
    "version": 3
   },
   "file_extension": ".py",
   "mimetype": "text/x-python",
   "name": "python",
   "nbconvert_exporter": "python",
   "pygments_lexer": "ipython3",
   "version": "3.9.13"
  }
 },
 "nbformat": 4,
 "nbformat_minor": 5
}
